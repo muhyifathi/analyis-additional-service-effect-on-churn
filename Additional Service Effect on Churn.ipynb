{
 "cells": [
  {
   "cell_type": "code",
   "execution_count": 1,
   "id": "49c3a10d-412e-4dd3-80f5-6a238a46d803",
   "metadata": {},
   "outputs": [],
   "source": [
    "import pandas as pd\n",
    "import numpy as np\n",
    "import seaborn as sns\n",
    "import matplotlib.pyplot as plt\n",
    "from causalinference import CausalModel"
   ]
  },
  {
   "cell_type": "code",
   "execution_count": 2,
   "id": "6e4c203b-8b8d-4ce2-a1f1-a4c68baa2f7b",
   "metadata": {},
   "outputs": [],
   "source": [
    "df_telco = pd.read_csv('Telco_customer_churn_clean.csv')"
   ]
  },
  {
   "cell_type": "code",
   "execution_count": 3,
   "id": "2928950c-624b-4634-b0f4-ce27588056c8",
   "metadata": {},
   "outputs": [],
   "source": [
    "df_telco_internet = df_telco[df_telco['Internet Service'] != 'No']"
   ]
  },
  {
   "cell_type": "markdown",
   "id": "c8684d68-6f61-4e9d-8c90-8d91a61730b2",
   "metadata": {},
   "source": [
    "# Based On Additional Internet Service"
   ]
  },
  {
   "cell_type": "markdown",
   "id": "56a57378-f389-4451-b41c-cdff2ad8237f",
   "metadata": {},
   "source": [
    "## Online Security"
   ]
  },
  {
   "cell_type": "markdown",
   "id": "47ecc596-b1f0-4be5-bb0c-8be2bb11fee6",
   "metadata": {},
   "source": [
    "### Churn Rate"
   ]
  },
  {
   "cell_type": "code",
   "execution_count": 4,
   "id": "a791e4f4-fa6a-4bd9-9aef-bd3f0738b8d7",
   "metadata": {},
   "outputs": [
    {
     "data": {
      "text/html": [
       "<div>\n",
       "<style scoped>\n",
       "    .dataframe tbody tr th:only-of-type {\n",
       "        vertical-align: middle;\n",
       "    }\n",
       "\n",
       "    .dataframe tbody tr th {\n",
       "        vertical-align: top;\n",
       "    }\n",
       "\n",
       "    .dataframe thead th {\n",
       "        text-align: right;\n",
       "    }\n",
       "</style>\n",
       "<table border=\"1\" class=\"dataframe\">\n",
       "  <thead>\n",
       "    <tr style=\"text-align: right;\">\n",
       "      <th>Churn Label</th>\n",
       "      <th>No</th>\n",
       "      <th>Yes</th>\n",
       "    </tr>\n",
       "    <tr>\n",
       "      <th>Online Security</th>\n",
       "      <th></th>\n",
       "      <th></th>\n",
       "    </tr>\n",
       "  </thead>\n",
       "  <tbody>\n",
       "    <tr>\n",
       "      <th>No</th>\n",
       "      <td>0.582333</td>\n",
       "      <td>0.417667</td>\n",
       "    </tr>\n",
       "    <tr>\n",
       "      <th>Yes</th>\n",
       "      <td>0.853888</td>\n",
       "      <td>0.146112</td>\n",
       "    </tr>\n",
       "  </tbody>\n",
       "</table>\n",
       "</div>"
      ],
      "text/plain": [
       "Churn Label            No       Yes\n",
       "Online Security                    \n",
       "No               0.582333  0.417667\n",
       "Yes              0.853888  0.146112"
      ]
     },
     "execution_count": 4,
     "metadata": {},
     "output_type": "execute_result"
    }
   ],
   "source": [
    "pd.crosstab(df_telco_internet['Online Security'], df_telco_internet['Churn Label'], normalize = 0)"
   ]
  },
  {
   "cell_type": "markdown",
   "id": "4a462b70-b6ff-4799-8a9f-9114b9d922e7",
   "metadata": {},
   "source": [
    "### Identify Comfound"
   ]
  },
  {
   "cell_type": "code",
   "execution_count": 5,
   "id": "75f8ca27-08b6-4a63-a1ab-58fa0ac21429",
   "metadata": {},
   "outputs": [
    {
     "data": {
      "text/html": [
       "<div>\n",
       "<style scoped>\n",
       "    .dataframe tbody tr th:only-of-type {\n",
       "        vertical-align: middle;\n",
       "    }\n",
       "\n",
       "    .dataframe tbody tr th {\n",
       "        vertical-align: top;\n",
       "    }\n",
       "\n",
       "    .dataframe thead th {\n",
       "        text-align: right;\n",
       "    }\n",
       "</style>\n",
       "<table border=\"1\" class=\"dataframe\">\n",
       "  <thead>\n",
       "    <tr style=\"text-align: right;\">\n",
       "      <th></th>\n",
       "      <th>Longitude</th>\n",
       "      <th>Latitude</th>\n",
       "      <th>Tenure Months</th>\n",
       "    </tr>\n",
       "    <tr>\n",
       "      <th>Online Security</th>\n",
       "      <th></th>\n",
       "      <th></th>\n",
       "      <th></th>\n",
       "    </tr>\n",
       "  </thead>\n",
       "  <tbody>\n",
       "    <tr>\n",
       "      <th>No</th>\n",
       "      <td>-119.728928</td>\n",
       "      <td>36.236179</td>\n",
       "      <td>25.850772</td>\n",
       "    </tr>\n",
       "    <tr>\n",
       "      <th>Yes</th>\n",
       "      <td>-119.819043</td>\n",
       "      <td>36.282124</td>\n",
       "      <td>45.046558</td>\n",
       "    </tr>\n",
       "  </tbody>\n",
       "</table>\n",
       "</div>"
      ],
      "text/plain": [
       "                  Longitude   Latitude  Tenure Months\n",
       "Online Security                                      \n",
       "No              -119.728928  36.236179      25.850772\n",
       "Yes             -119.819043  36.282124      45.046558"
      ]
     },
     "execution_count": 5,
     "metadata": {},
     "output_type": "execute_result"
    }
   ],
   "source": [
    "df_telco_internet[['Online Security','Longitude','Latitude','Tenure Months']].groupby('Online Security').mean()"
   ]
  },
  {
   "cell_type": "code",
   "execution_count": 6,
   "id": "9472bdda-93be-42ea-b401-5de26c5e5291",
   "metadata": {},
   "outputs": [
    {
     "data": {
      "text/html": [
       "<div>\n",
       "<style scoped>\n",
       "    .dataframe tbody tr th:only-of-type {\n",
       "        vertical-align: middle;\n",
       "    }\n",
       "\n",
       "    .dataframe tbody tr th {\n",
       "        vertical-align: top;\n",
       "    }\n",
       "\n",
       "    .dataframe thead th {\n",
       "        text-align: right;\n",
       "    }\n",
       "</style>\n",
       "<table border=\"1\" class=\"dataframe\">\n",
       "  <thead>\n",
       "    <tr style=\"text-align: right;\">\n",
       "      <th>Gender</th>\n",
       "      <th>Female</th>\n",
       "      <th>Male</th>\n",
       "    </tr>\n",
       "    <tr>\n",
       "      <th>Online Security</th>\n",
       "      <th></th>\n",
       "      <th></th>\n",
       "    </tr>\n",
       "  </thead>\n",
       "  <tbody>\n",
       "    <tr>\n",
       "      <th>No</th>\n",
       "      <td>0.489994</td>\n",
       "      <td>0.510006</td>\n",
       "    </tr>\n",
       "    <tr>\n",
       "      <th>Yes</th>\n",
       "      <td>0.508668</td>\n",
       "      <td>0.491332</td>\n",
       "    </tr>\n",
       "  </tbody>\n",
       "</table>\n",
       "</div>"
      ],
      "text/plain": [
       "Gender             Female      Male\n",
       "Online Security                    \n",
       "No               0.489994  0.510006\n",
       "Yes              0.508668  0.491332"
      ]
     },
     "execution_count": 6,
     "metadata": {},
     "output_type": "execute_result"
    }
   ],
   "source": [
    "pd.crosstab(df_telco_internet['Online Security'], df_telco_internet['Gender'], normalize = 0)"
   ]
  },
  {
   "cell_type": "code",
   "execution_count": 7,
   "id": "e28ff8e4-7dd8-4976-99d8-94a6087d5b8e",
   "metadata": {},
   "outputs": [
    {
     "data": {
      "text/html": [
       "<div>\n",
       "<style scoped>\n",
       "    .dataframe tbody tr th:only-of-type {\n",
       "        vertical-align: middle;\n",
       "    }\n",
       "\n",
       "    .dataframe tbody tr th {\n",
       "        vertical-align: top;\n",
       "    }\n",
       "\n",
       "    .dataframe thead th {\n",
       "        text-align: right;\n",
       "    }\n",
       "</style>\n",
       "<table border=\"1\" class=\"dataframe\">\n",
       "  <thead>\n",
       "    <tr style=\"text-align: right;\">\n",
       "      <th>Senior Citizen</th>\n",
       "      <th>No</th>\n",
       "      <th>Yes</th>\n",
       "    </tr>\n",
       "    <tr>\n",
       "      <th>Online Security</th>\n",
       "      <th></th>\n",
       "      <th></th>\n",
       "    </tr>\n",
       "  </thead>\n",
       "  <tbody>\n",
       "    <tr>\n",
       "      <th>No</th>\n",
       "      <td>0.769011</td>\n",
       "      <td>0.230989</td>\n",
       "    </tr>\n",
       "    <tr>\n",
       "      <th>Yes</th>\n",
       "      <td>0.860327</td>\n",
       "      <td>0.139673</td>\n",
       "    </tr>\n",
       "  </tbody>\n",
       "</table>\n",
       "</div>"
      ],
      "text/plain": [
       "Senior Citizen         No       Yes\n",
       "Online Security                    \n",
       "No               0.769011  0.230989\n",
       "Yes              0.860327  0.139673"
      ]
     },
     "execution_count": 7,
     "metadata": {},
     "output_type": "execute_result"
    }
   ],
   "source": [
    "pd.crosstab(df_telco_internet['Online Security'], df_telco_internet['Senior Citizen'], normalize = 0)"
   ]
  },
  {
   "cell_type": "code",
   "execution_count": 8,
   "id": "16e0cf72-d88f-47d8-9ce8-fc2a1be52de9",
   "metadata": {},
   "outputs": [
    {
     "data": {
      "text/html": [
       "<div>\n",
       "<style scoped>\n",
       "    .dataframe tbody tr th:only-of-type {\n",
       "        vertical-align: middle;\n",
       "    }\n",
       "\n",
       "    .dataframe tbody tr th {\n",
       "        vertical-align: top;\n",
       "    }\n",
       "\n",
       "    .dataframe thead th {\n",
       "        text-align: right;\n",
       "    }\n",
       "</style>\n",
       "<table border=\"1\" class=\"dataframe\">\n",
       "  <thead>\n",
       "    <tr style=\"text-align: right;\">\n",
       "      <th>Partner</th>\n",
       "      <th>No</th>\n",
       "      <th>Yes</th>\n",
       "    </tr>\n",
       "    <tr>\n",
       "      <th>Online Security</th>\n",
       "      <th></th>\n",
       "      <th></th>\n",
       "    </tr>\n",
       "  </thead>\n",
       "  <tbody>\n",
       "    <tr>\n",
       "      <th>No</th>\n",
       "      <td>0.582333</td>\n",
       "      <td>0.417667</td>\n",
       "    </tr>\n",
       "    <tr>\n",
       "      <th>Yes</th>\n",
       "      <td>0.404160</td>\n",
       "      <td>0.595840</td>\n",
       "    </tr>\n",
       "  </tbody>\n",
       "</table>\n",
       "</div>"
      ],
      "text/plain": [
       "Partner                No       Yes\n",
       "Online Security                    \n",
       "No               0.582333  0.417667\n",
       "Yes              0.404160  0.595840"
      ]
     },
     "execution_count": 8,
     "metadata": {},
     "output_type": "execute_result"
    }
   ],
   "source": [
    "pd.crosstab(df_telco_internet['Online Security'], df_telco_internet['Partner'], normalize = 0)"
   ]
  },
  {
   "cell_type": "code",
   "execution_count": 9,
   "id": "5edede68-23d0-4f36-bd53-b85214230d43",
   "metadata": {},
   "outputs": [
    {
     "data": {
      "text/html": [
       "<div>\n",
       "<style scoped>\n",
       "    .dataframe tbody tr th:only-of-type {\n",
       "        vertical-align: middle;\n",
       "    }\n",
       "\n",
       "    .dataframe tbody tr th {\n",
       "        vertical-align: top;\n",
       "    }\n",
       "\n",
       "    .dataframe thead th {\n",
       "        text-align: right;\n",
       "    }\n",
       "</style>\n",
       "<table border=\"1\" class=\"dataframe\">\n",
       "  <thead>\n",
       "    <tr style=\"text-align: right;\">\n",
       "      <th>Dependents</th>\n",
       "      <th>No</th>\n",
       "      <th>Yes</th>\n",
       "    </tr>\n",
       "    <tr>\n",
       "      <th>Online Security</th>\n",
       "      <th></th>\n",
       "      <th></th>\n",
       "    </tr>\n",
       "  </thead>\n",
       "  <tbody>\n",
       "    <tr>\n",
       "      <th>No</th>\n",
       "      <td>0.848485</td>\n",
       "      <td>0.151515</td>\n",
       "    </tr>\n",
       "    <tr>\n",
       "      <th>Yes</th>\n",
       "      <td>0.735513</td>\n",
       "      <td>0.264487</td>\n",
       "    </tr>\n",
       "  </tbody>\n",
       "</table>\n",
       "</div>"
      ],
      "text/plain": [
       "Dependents             No       Yes\n",
       "Online Security                    \n",
       "No               0.848485  0.151515\n",
       "Yes              0.735513  0.264487"
      ]
     },
     "execution_count": 9,
     "metadata": {},
     "output_type": "execute_result"
    }
   ],
   "source": [
    "pd.crosstab(df_telco_internet['Online Security'], df_telco_internet['Dependents'], normalize = 0)"
   ]
  },
  {
   "cell_type": "code",
   "execution_count": 10,
   "id": "c023b5c3-8a73-44a2-9b90-5479d855123a",
   "metadata": {},
   "outputs": [
    {
     "data": {
      "text/html": [
       "<div>\n",
       "<style scoped>\n",
       "    .dataframe tbody tr th:only-of-type {\n",
       "        vertical-align: middle;\n",
       "    }\n",
       "\n",
       "    .dataframe tbody tr th {\n",
       "        vertical-align: top;\n",
       "    }\n",
       "\n",
       "    .dataframe thead th {\n",
       "        text-align: right;\n",
       "    }\n",
       "</style>\n",
       "<table border=\"1\" class=\"dataframe\">\n",
       "  <thead>\n",
       "    <tr style=\"text-align: right;\">\n",
       "      <th>Internet Service</th>\n",
       "      <th>DSL</th>\n",
       "      <th>Fiber optic</th>\n",
       "    </tr>\n",
       "    <tr>\n",
       "      <th>Online Security</th>\n",
       "      <th></th>\n",
       "      <th></th>\n",
       "    </tr>\n",
       "  </thead>\n",
       "  <tbody>\n",
       "    <tr>\n",
       "      <th>No</th>\n",
       "      <td>0.354774</td>\n",
       "      <td>0.645226</td>\n",
       "    </tr>\n",
       "    <tr>\n",
       "      <th>Yes</th>\n",
       "      <td>0.584448</td>\n",
       "      <td>0.415552</td>\n",
       "    </tr>\n",
       "  </tbody>\n",
       "</table>\n",
       "</div>"
      ],
      "text/plain": [
       "Internet Service       DSL  Fiber optic\n",
       "Online Security                        \n",
       "No                0.354774     0.645226\n",
       "Yes               0.584448     0.415552"
      ]
     },
     "execution_count": 10,
     "metadata": {},
     "output_type": "execute_result"
    }
   ],
   "source": [
    "pd.crosstab(df_telco_internet['Online Security'], df_telco_internet['Internet Service'], normalize = 0)"
   ]
  },
  {
   "cell_type": "markdown",
   "id": "8ca3f3c0-a4d8-47cd-b276-7c7c74a89fb5",
   "metadata": {},
   "source": [
    "we can see the different in \n",
    "\n",
    "1. Tenure, online security user has higher tenure\n",
    "1. Senior citizen, online security user has less senior citizen\n",
    "1. Partner, Online Security user has more user with partner\n",
    "1. Dependents, Online Security user has more user with dependents\n",
    "1. Internet Service, Online Security user has less user using fiber optic\n",
    "\n",
    "we will include these variables as comfound because it affect churn rate and chronologicaly can affect Online Security usage"
   ]
  },
  {
   "cell_type": "markdown",
   "id": "830d5892-863c-4825-a8ce-17d1f641e621",
   "metadata": {},
   "source": [
    "### Causal Inference"
   ]
  },
  {
   "cell_type": "code",
   "execution_count": 11,
   "id": "76b7f7f1-7578-40d6-92fe-40dae85088e0",
   "metadata": {},
   "outputs": [
    {
     "name": "stderr",
     "output_type": "stream",
     "text": [
      "C:\\Users\\muhyi\\AppData\\Local\\Temp\\ipykernel_15936\\3248351155.py:9: SettingWithCopyWarning: \n",
      "A value is trying to be set on a copy of a slice from a DataFrame.\n",
      "Try using .loc[row_indexer,col_indexer] = value instead\n",
      "\n",
      "See the caveats in the documentation: https://pandas.pydata.org/pandas-docs/stable/user_guide/indexing.html#returning-a-view-versus-a-copy\n",
      "  df_telco_internet['Online Security t'] = np.where(df_telco_internet['Online Security']=='Yes',1,0)\n"
     ]
    }
   ],
   "source": [
    "comfound = [\n",
    "    'Tenure Months',\n",
    "    'Senior Citizen',\n",
    "    'Partner',\n",
    "    'Dependents',\n",
    "    'Internet Service'\n",
    "]\n",
    "\n",
    "df_telco_internet['Online Security t'] = np.where(df_telco_internet['Online Security']=='Yes',1,0)\n",
    "\n",
    "y = df_telco_internet['Churn Value'].values\n",
    "t = df_telco_internet['Online Security t'].values\n",
    "X = pd.get_dummies(df_telco_internet[comfound], drop_first = True).astype(int).values"
   ]
  },
  {
   "cell_type": "code",
   "execution_count": 12,
   "id": "8f506042-8787-4f6f-bd8f-b06009d1da8b",
   "metadata": {},
   "outputs": [
    {
     "name": "stdout",
     "output_type": "stream",
     "text": [
      "\n",
      "Treatment Effect Estimates: Matching\n",
      "\n",
      "                     Est.       S.e.          z      P>|z|      [95% Conf. int.]\n",
      "--------------------------------------------------------------------------------\n",
      "           ATE     -0.089      0.016     -5.526      0.000     -0.121     -0.058\n",
      "           ATC     -0.106      0.018     -5.764      0.000     -0.142     -0.070\n",
      "           ATT     -0.060      0.021     -2.882      0.004     -0.100     -0.019\n",
      "\n"
     ]
    }
   ],
   "source": [
    "model = CausalModel(y, t, X)\n",
    "model.est_via_matching()\n",
    "print(model.estimates)"
   ]
  },
  {
   "cell_type": "markdown",
   "id": "86ca33af-9485-4e48-9fe6-2fd04ae7cdd4",
   "metadata": {},
   "source": [
    "## Online Backup"
   ]
  },
  {
   "cell_type": "markdown",
   "id": "ae646285-843c-4978-b621-51a3bdbf0a15",
   "metadata": {
    "jp-MarkdownHeadingCollapsed": true
   },
   "source": [
    "### Churn Rate"
   ]
  },
  {
   "cell_type": "code",
   "execution_count": 13,
   "id": "1ab1f931-5d43-4232-a177-b4012fa1416b",
   "metadata": {},
   "outputs": [
    {
     "data": {
      "text/html": [
       "<div>\n",
       "<style scoped>\n",
       "    .dataframe tbody tr th:only-of-type {\n",
       "        vertical-align: middle;\n",
       "    }\n",
       "\n",
       "    .dataframe tbody tr th {\n",
       "        vertical-align: top;\n",
       "    }\n",
       "\n",
       "    .dataframe thead th {\n",
       "        text-align: right;\n",
       "    }\n",
       "</style>\n",
       "<table border=\"1\" class=\"dataframe\">\n",
       "  <thead>\n",
       "    <tr style=\"text-align: right;\">\n",
       "      <th>Churn Label</th>\n",
       "      <th>No</th>\n",
       "      <th>Yes</th>\n",
       "    </tr>\n",
       "    <tr>\n",
       "      <th>Online Backup</th>\n",
       "      <th></th>\n",
       "      <th></th>\n",
       "    </tr>\n",
       "  </thead>\n",
       "  <tbody>\n",
       "    <tr>\n",
       "      <th>No</th>\n",
       "      <td>0.600712</td>\n",
       "      <td>0.399288</td>\n",
       "    </tr>\n",
       "    <tr>\n",
       "      <th>Yes</th>\n",
       "      <td>0.784685</td>\n",
       "      <td>0.215315</td>\n",
       "    </tr>\n",
       "  </tbody>\n",
       "</table>\n",
       "</div>"
      ],
      "text/plain": [
       "Churn Label          No       Yes\n",
       "Online Backup                    \n",
       "No             0.600712  0.399288\n",
       "Yes            0.784685  0.215315"
      ]
     },
     "execution_count": 13,
     "metadata": {},
     "output_type": "execute_result"
    }
   ],
   "source": [
    "pd.crosstab(df_telco_internet['Online Backup'], df_telco_internet['Churn Label'], normalize = 0)"
   ]
  },
  {
   "cell_type": "markdown",
   "id": "edc56ba7-abc8-48cb-87ac-e6016fa16342",
   "metadata": {
    "jp-MarkdownHeadingCollapsed": true
   },
   "source": [
    "### Identify comfound"
   ]
  },
  {
   "cell_type": "code",
   "execution_count": 14,
   "id": "d7af2bb8-b2aa-475a-ba8a-eee8d063c52e",
   "metadata": {},
   "outputs": [
    {
     "data": {
      "text/html": [
       "<div>\n",
       "<style scoped>\n",
       "    .dataframe tbody tr th:only-of-type {\n",
       "        vertical-align: middle;\n",
       "    }\n",
       "\n",
       "    .dataframe tbody tr th {\n",
       "        vertical-align: top;\n",
       "    }\n",
       "\n",
       "    .dataframe thead th {\n",
       "        text-align: right;\n",
       "    }\n",
       "</style>\n",
       "<table border=\"1\" class=\"dataframe\">\n",
       "  <thead>\n",
       "    <tr style=\"text-align: right;\">\n",
       "      <th></th>\n",
       "      <th>Latitude</th>\n",
       "      <th>Longitude</th>\n",
       "      <th>Tenure Months</th>\n",
       "    </tr>\n",
       "    <tr>\n",
       "      <th>Online Backup</th>\n",
       "      <th></th>\n",
       "      <th></th>\n",
       "      <th></th>\n",
       "    </tr>\n",
       "  </thead>\n",
       "  <tbody>\n",
       "    <tr>\n",
       "      <th>No</th>\n",
       "      <td>36.238894</td>\n",
       "      <td>-119.762156</td>\n",
       "      <td>23.680699</td>\n",
       "    </tr>\n",
       "    <tr>\n",
       "      <th>Yes</th>\n",
       "      <td>36.270917</td>\n",
       "      <td>-119.761589</td>\n",
       "      <td>44.565253</td>\n",
       "    </tr>\n",
       "  </tbody>\n",
       "</table>\n",
       "</div>"
      ],
      "text/plain": [
       "                Latitude   Longitude  Tenure Months\n",
       "Online Backup                                      \n",
       "No             36.238894 -119.762156      23.680699\n",
       "Yes            36.270917 -119.761589      44.565253"
      ]
     },
     "execution_count": 14,
     "metadata": {},
     "output_type": "execute_result"
    }
   ],
   "source": [
    "df_telco_internet[['Online Backup','Latitude','Longitude','Tenure Months']].groupby('Online Backup').mean()"
   ]
  },
  {
   "cell_type": "code",
   "execution_count": 15,
   "id": "a80164d7-6c37-486b-a948-15bb8470d4fa",
   "metadata": {},
   "outputs": [
    {
     "data": {
      "text/html": [
       "<div>\n",
       "<style scoped>\n",
       "    .dataframe tbody tr th:only-of-type {\n",
       "        vertical-align: middle;\n",
       "    }\n",
       "\n",
       "    .dataframe tbody tr th {\n",
       "        vertical-align: top;\n",
       "    }\n",
       "\n",
       "    .dataframe thead th {\n",
       "        text-align: right;\n",
       "    }\n",
       "</style>\n",
       "<table border=\"1\" class=\"dataframe\">\n",
       "  <thead>\n",
       "    <tr style=\"text-align: right;\">\n",
       "      <th>Gender</th>\n",
       "      <th>Female</th>\n",
       "      <th>Male</th>\n",
       "    </tr>\n",
       "    <tr>\n",
       "      <th>Online Backup</th>\n",
       "      <th></th>\n",
       "      <th></th>\n",
       "    </tr>\n",
       "  </thead>\n",
       "  <tbody>\n",
       "    <tr>\n",
       "      <th>No</th>\n",
       "      <td>0.490609</td>\n",
       "      <td>0.509391</td>\n",
       "    </tr>\n",
       "    <tr>\n",
       "      <th>Yes</th>\n",
       "      <td>0.504734</td>\n",
       "      <td>0.495266</td>\n",
       "    </tr>\n",
       "  </tbody>\n",
       "</table>\n",
       "</div>"
      ],
      "text/plain": [
       "Gender           Female      Male\n",
       "Online Backup                    \n",
       "No             0.490609  0.509391\n",
       "Yes            0.504734  0.495266"
      ]
     },
     "execution_count": 15,
     "metadata": {},
     "output_type": "execute_result"
    }
   ],
   "source": [
    "pd.crosstab(df_telco_internet['Online Backup'], df_telco_internet['Gender'], normalize = 0)"
   ]
  },
  {
   "cell_type": "code",
   "execution_count": 16,
   "id": "67ac73df-ca45-4e74-888f-d04d28a1feca",
   "metadata": {},
   "outputs": [
    {
     "data": {
      "text/html": [
       "<div>\n",
       "<style scoped>\n",
       "    .dataframe tbody tr th:only-of-type {\n",
       "        vertical-align: middle;\n",
       "    }\n",
       "\n",
       "    .dataframe tbody tr th {\n",
       "        vertical-align: top;\n",
       "    }\n",
       "\n",
       "    .dataframe thead th {\n",
       "        text-align: right;\n",
       "    }\n",
       "</style>\n",
       "<table border=\"1\" class=\"dataframe\">\n",
       "  <thead>\n",
       "    <tr style=\"text-align: right;\">\n",
       "      <th>Senior Citizen</th>\n",
       "      <th>No</th>\n",
       "      <th>Yes</th>\n",
       "    </tr>\n",
       "    <tr>\n",
       "      <th>Online Backup</th>\n",
       "      <th></th>\n",
       "      <th></th>\n",
       "    </tr>\n",
       "  </thead>\n",
       "  <tbody>\n",
       "    <tr>\n",
       "      <th>No</th>\n",
       "      <td>0.801166</td>\n",
       "      <td>0.198834</td>\n",
       "    </tr>\n",
       "    <tr>\n",
       "      <th>Yes</th>\n",
       "      <td>0.804035</td>\n",
       "      <td>0.195965</td>\n",
       "    </tr>\n",
       "  </tbody>\n",
       "</table>\n",
       "</div>"
      ],
      "text/plain": [
       "Senior Citizen        No       Yes\n",
       "Online Backup                     \n",
       "No              0.801166  0.198834\n",
       "Yes             0.804035  0.195965"
      ]
     },
     "execution_count": 16,
     "metadata": {},
     "output_type": "execute_result"
    }
   ],
   "source": [
    "pd.crosstab(df_telco_internet['Online Backup'], df_telco_internet['Senior Citizen'], normalize = 0)"
   ]
  },
  {
   "cell_type": "code",
   "execution_count": 17,
   "id": "b3780d68-f42f-4327-8983-49e7115f2e9f",
   "metadata": {},
   "outputs": [
    {
     "data": {
      "text/html": [
       "<div>\n",
       "<style scoped>\n",
       "    .dataframe tbody tr th:only-of-type {\n",
       "        vertical-align: middle;\n",
       "    }\n",
       "\n",
       "    .dataframe tbody tr th {\n",
       "        vertical-align: top;\n",
       "    }\n",
       "\n",
       "    .dataframe thead th {\n",
       "        text-align: right;\n",
       "    }\n",
       "</style>\n",
       "<table border=\"1\" class=\"dataframe\">\n",
       "  <thead>\n",
       "    <tr style=\"text-align: right;\">\n",
       "      <th>Partner</th>\n",
       "      <th>No</th>\n",
       "      <th>Yes</th>\n",
       "    </tr>\n",
       "    <tr>\n",
       "      <th>Online Backup</th>\n",
       "      <th></th>\n",
       "      <th></th>\n",
       "    </tr>\n",
       "  </thead>\n",
       "  <tbody>\n",
       "    <tr>\n",
       "      <th>No</th>\n",
       "      <td>0.593912</td>\n",
       "      <td>0.406088</td>\n",
       "    </tr>\n",
       "    <tr>\n",
       "      <th>Yes</th>\n",
       "      <td>0.419514</td>\n",
       "      <td>0.580486</td>\n",
       "    </tr>\n",
       "  </tbody>\n",
       "</table>\n",
       "</div>"
      ],
      "text/plain": [
       "Partner              No       Yes\n",
       "Online Backup                    \n",
       "No             0.593912  0.406088\n",
       "Yes            0.419514  0.580486"
      ]
     },
     "execution_count": 17,
     "metadata": {},
     "output_type": "execute_result"
    }
   ],
   "source": [
    "pd.crosstab(df_telco_internet['Online Backup'], df_telco_internet['Partner'], normalize = 0)"
   ]
  },
  {
   "cell_type": "code",
   "execution_count": 18,
   "id": "42f7c989-1eac-48bf-bffe-2d8246ec6ebd",
   "metadata": {},
   "outputs": [
    {
     "data": {
      "text/html": [
       "<div>\n",
       "<style scoped>\n",
       "    .dataframe tbody tr th:only-of-type {\n",
       "        vertical-align: middle;\n",
       "    }\n",
       "\n",
       "    .dataframe tbody tr th {\n",
       "        vertical-align: top;\n",
       "    }\n",
       "\n",
       "    .dataframe thead th {\n",
       "        text-align: right;\n",
       "    }\n",
       "</style>\n",
       "<table border=\"1\" class=\"dataframe\">\n",
       "  <thead>\n",
       "    <tr style=\"text-align: right;\">\n",
       "      <th>Dependents</th>\n",
       "      <th>No</th>\n",
       "      <th>Yes</th>\n",
       "    </tr>\n",
       "    <tr>\n",
       "      <th>Online Backup</th>\n",
       "      <th></th>\n",
       "      <th></th>\n",
       "    </tr>\n",
       "  </thead>\n",
       "  <tbody>\n",
       "    <tr>\n",
       "      <th>No</th>\n",
       "      <td>0.838731</td>\n",
       "      <td>0.161269</td>\n",
       "    </tr>\n",
       "    <tr>\n",
       "      <th>Yes</th>\n",
       "      <td>0.766982</td>\n",
       "      <td>0.233018</td>\n",
       "    </tr>\n",
       "  </tbody>\n",
       "</table>\n",
       "</div>"
      ],
      "text/plain": [
       "Dependents           No       Yes\n",
       "Online Backup                    \n",
       "No             0.838731  0.161269\n",
       "Yes            0.766982  0.233018"
      ]
     },
     "execution_count": 18,
     "metadata": {},
     "output_type": "execute_result"
    }
   ],
   "source": [
    "pd.crosstab(df_telco_internet['Online Backup'], df_telco_internet['Dependents'], normalize = 0)"
   ]
  },
  {
   "cell_type": "code",
   "execution_count": 19,
   "id": "2b09280a-9c2b-4205-9041-b33cce827fb2",
   "metadata": {},
   "outputs": [
    {
     "data": {
      "text/html": [
       "<div>\n",
       "<style scoped>\n",
       "    .dataframe tbody tr th:only-of-type {\n",
       "        vertical-align: middle;\n",
       "    }\n",
       "\n",
       "    .dataframe tbody tr th {\n",
       "        vertical-align: top;\n",
       "    }\n",
       "\n",
       "    .dataframe thead th {\n",
       "        text-align: right;\n",
       "    }\n",
       "</style>\n",
       "<table border=\"1\" class=\"dataframe\">\n",
       "  <thead>\n",
       "    <tr style=\"text-align: right;\">\n",
       "      <th>Internet Service</th>\n",
       "      <th>DSL</th>\n",
       "      <th>Fiber optic</th>\n",
       "    </tr>\n",
       "    <tr>\n",
       "      <th>Online Backup</th>\n",
       "      <th></th>\n",
       "      <th></th>\n",
       "    </tr>\n",
       "  </thead>\n",
       "  <tbody>\n",
       "    <tr>\n",
       "      <th>No</th>\n",
       "      <td>0.432319</td>\n",
       "      <td>0.567681</td>\n",
       "    </tr>\n",
       "    <tr>\n",
       "      <th>Yes</th>\n",
       "      <td>0.447098</td>\n",
       "      <td>0.552902</td>\n",
       "    </tr>\n",
       "  </tbody>\n",
       "</table>\n",
       "</div>"
      ],
      "text/plain": [
       "Internet Service       DSL  Fiber optic\n",
       "Online Backup                          \n",
       "No                0.432319     0.567681\n",
       "Yes               0.447098     0.552902"
      ]
     },
     "execution_count": 19,
     "metadata": {},
     "output_type": "execute_result"
    }
   ],
   "source": [
    "pd.crosstab(df_telco_internet['Online Backup'], df_telco_internet['Internet Service'], normalize = 0)"
   ]
  },
  {
   "cell_type": "markdown",
   "id": "c05fdb19-64db-4928-b127-b8c2d88f1d88",
   "metadata": {},
   "source": [
    "hetergenus variable\n",
    "1. partner\n",
    "2. dependent\n",
    "3. tenure"
   ]
  },
  {
   "cell_type": "markdown",
   "id": "07c7b6b7-6727-4e19-96f7-f58f3a37aecb",
   "metadata": {},
   "source": [
    "### Causal Inference"
   ]
  },
  {
   "cell_type": "code",
   "execution_count": 20,
   "id": "94d7fa07-0565-4391-9659-1fdf4dceb197",
   "metadata": {},
   "outputs": [
    {
     "name": "stderr",
     "output_type": "stream",
     "text": [
      "C:\\Users\\muhyi\\AppData\\Local\\Temp\\ipykernel_15936\\3719568585.py:7: SettingWithCopyWarning: \n",
      "A value is trying to be set on a copy of a slice from a DataFrame.\n",
      "Try using .loc[row_indexer,col_indexer] = value instead\n",
      "\n",
      "See the caveats in the documentation: https://pandas.pydata.org/pandas-docs/stable/user_guide/indexing.html#returning-a-view-versus-a-copy\n",
      "  df_telco_internet['Online Backup t'] = np.where(df_telco_internet['Online Backup']=='Yes',1,0)\n"
     ]
    }
   ],
   "source": [
    "comfound = [\n",
    "    'Partner', \n",
    "    'Dependents',\n",
    "    'Tenure Months',\n",
    "    'Internet Service']\n",
    "\n",
    "df_telco_internet['Online Backup t'] = np.where(df_telco_internet['Online Backup']=='Yes',1,0)\n",
    "\n",
    "y = df_telco_internet['Churn Value'].values\n",
    "t = df_telco_internet['Online Backup t'].values\n",
    "X = pd.get_dummies(df_telco_internet[comfound], drop_first = True).astype(int).values"
   ]
  },
  {
   "cell_type": "code",
   "execution_count": 21,
   "id": "e239a505-3fe5-4a02-8901-f7f013a70c95",
   "metadata": {},
   "outputs": [
    {
     "name": "stdout",
     "output_type": "stream",
     "text": [
      "\n",
      "Treatment Effect Estimates: Matching\n",
      "\n",
      "                     Est.       S.e.          z      P>|z|      [95% Conf. int.]\n",
      "--------------------------------------------------------------------------------\n",
      "           ATE     -0.017      0.014     -1.233      0.218     -0.045      0.010\n",
      "           ATC     -0.024      0.016     -1.514      0.130     -0.055      0.007\n",
      "           ATT     -0.009      0.016     -0.527      0.598     -0.041      0.023\n",
      "\n"
     ]
    }
   ],
   "source": [
    "model = CausalModel(y, t, X)\n",
    "model.est_via_matching()\n",
    "print(model.estimates)"
   ]
  },
  {
   "cell_type": "markdown",
   "id": "04077988-e430-4e2f-ad21-5cb516a55533",
   "metadata": {},
   "source": [
    "## Tech Support"
   ]
  },
  {
   "cell_type": "markdown",
   "id": "4027d6df-1766-4453-aeb6-11cab6b2ec67",
   "metadata": {},
   "source": [
    "### Churn Rate"
   ]
  },
  {
   "cell_type": "code",
   "execution_count": 22,
   "id": "d34e0356-664b-473a-aaa1-1b5a007344b5",
   "metadata": {},
   "outputs": [
    {
     "data": {
      "text/html": [
       "<div>\n",
       "<style scoped>\n",
       "    .dataframe tbody tr th:only-of-type {\n",
       "        vertical-align: middle;\n",
       "    }\n",
       "\n",
       "    .dataframe tbody tr th {\n",
       "        vertical-align: top;\n",
       "    }\n",
       "\n",
       "    .dataframe thead th {\n",
       "        text-align: right;\n",
       "    }\n",
       "</style>\n",
       "<table border=\"1\" class=\"dataframe\">\n",
       "  <thead>\n",
       "    <tr style=\"text-align: right;\">\n",
       "      <th>Churn Value</th>\n",
       "      <th>0</th>\n",
       "      <th>1</th>\n",
       "    </tr>\n",
       "    <tr>\n",
       "      <th>Tech Support</th>\n",
       "      <th></th>\n",
       "      <th></th>\n",
       "    </tr>\n",
       "  </thead>\n",
       "  <tbody>\n",
       "    <tr>\n",
       "      <th>No</th>\n",
       "      <td>0.583645</td>\n",
       "      <td>0.416355</td>\n",
       "    </tr>\n",
       "    <tr>\n",
       "      <th>Yes</th>\n",
       "      <td>0.848337</td>\n",
       "      <td>0.151663</td>\n",
       "    </tr>\n",
       "  </tbody>\n",
       "</table>\n",
       "</div>"
      ],
      "text/plain": [
       "Churn Value          0         1\n",
       "Tech Support                    \n",
       "No            0.583645  0.416355\n",
       "Yes           0.848337  0.151663"
      ]
     },
     "execution_count": 22,
     "metadata": {},
     "output_type": "execute_result"
    }
   ],
   "source": [
    "pd.crosstab(df_telco_internet['Tech Support'], df_telco_internet['Churn Value'], normalize = 0)"
   ]
  },
  {
   "cell_type": "markdown",
   "id": "e7b369c4-b677-4e27-83cd-77957ca7e368",
   "metadata": {
    "jp-MarkdownHeadingCollapsed": true
   },
   "source": [
    "### Comfound"
   ]
  },
  {
   "cell_type": "code",
   "execution_count": 23,
   "id": "0fa3beed-a277-49d7-a4d4-9f1c7881548e",
   "metadata": {},
   "outputs": [
    {
     "data": {
      "text/html": [
       "<div>\n",
       "<style scoped>\n",
       "    .dataframe tbody tr th:only-of-type {\n",
       "        vertical-align: middle;\n",
       "    }\n",
       "\n",
       "    .dataframe tbody tr th {\n",
       "        vertical-align: top;\n",
       "    }\n",
       "\n",
       "    .dataframe thead th {\n",
       "        text-align: right;\n",
       "    }\n",
       "</style>\n",
       "<table border=\"1\" class=\"dataframe\">\n",
       "  <thead>\n",
       "    <tr style=\"text-align: right;\">\n",
       "      <th></th>\n",
       "      <th>Latitude</th>\n",
       "      <th>Longitude</th>\n",
       "      <th>Tenure Months</th>\n",
       "    </tr>\n",
       "    <tr>\n",
       "      <th>Tech Support</th>\n",
       "      <th></th>\n",
       "      <th></th>\n",
       "      <th></th>\n",
       "    </tr>\n",
       "  </thead>\n",
       "  <tbody>\n",
       "    <tr>\n",
       "      <th>No</th>\n",
       "      <td>36.222480</td>\n",
       "      <td>-119.720084</td>\n",
       "      <td>25.844227</td>\n",
       "    </tr>\n",
       "    <tr>\n",
       "      <th>Yes</th>\n",
       "      <td>36.304838</td>\n",
       "      <td>-119.832967</td>\n",
       "      <td>44.822896</td>\n",
       "    </tr>\n",
       "  </tbody>\n",
       "</table>\n",
       "</div>"
      ],
      "text/plain": [
       "               Latitude   Longitude  Tenure Months\n",
       "Tech Support                                      \n",
       "No            36.222480 -119.720084      25.844227\n",
       "Yes           36.304838 -119.832967      44.822896"
      ]
     },
     "execution_count": 23,
     "metadata": {},
     "output_type": "execute_result"
    }
   ],
   "source": [
    "df_telco_internet[['Tech Support','Latitude','Longitude','Tenure Months']].groupby('Tech Support').mean()"
   ]
  },
  {
   "cell_type": "code",
   "execution_count": 24,
   "id": "36c71533-9616-4423-9fb5-0662dc7294d1",
   "metadata": {},
   "outputs": [
    {
     "data": {
      "text/html": [
       "<div>\n",
       "<style scoped>\n",
       "    .dataframe tbody tr th:only-of-type {\n",
       "        vertical-align: middle;\n",
       "    }\n",
       "\n",
       "    .dataframe tbody tr th {\n",
       "        vertical-align: top;\n",
       "    }\n",
       "\n",
       "    .dataframe thead th {\n",
       "        text-align: right;\n",
       "    }\n",
       "</style>\n",
       "<table border=\"1\" class=\"dataframe\">\n",
       "  <thead>\n",
       "    <tr style=\"text-align: right;\">\n",
       "      <th>Gender</th>\n",
       "      <th>Female</th>\n",
       "      <th>Male</th>\n",
       "    </tr>\n",
       "    <tr>\n",
       "      <th>Tech Support</th>\n",
       "      <th></th>\n",
       "      <th></th>\n",
       "    </tr>\n",
       "  </thead>\n",
       "  <tbody>\n",
       "    <tr>\n",
       "      <th>No</th>\n",
       "      <td>0.493521</td>\n",
       "      <td>0.506479</td>\n",
       "    </tr>\n",
       "    <tr>\n",
       "      <th>Yes</th>\n",
       "      <td>0.502446</td>\n",
       "      <td>0.497554</td>\n",
       "    </tr>\n",
       "  </tbody>\n",
       "</table>\n",
       "</div>"
      ],
      "text/plain": [
       "Gender          Female      Male\n",
       "Tech Support                    \n",
       "No            0.493521  0.506479\n",
       "Yes           0.502446  0.497554"
      ]
     },
     "execution_count": 24,
     "metadata": {},
     "output_type": "execute_result"
    }
   ],
   "source": [
    "pd.crosstab(df_telco_internet['Tech Support'], df_telco_internet['Gender'], normalize = 0)"
   ]
  },
  {
   "cell_type": "code",
   "execution_count": 25,
   "id": "1fbf1c6f-b9ca-4e1f-838d-5e42a651bcc8",
   "metadata": {},
   "outputs": [
    {
     "data": {
      "text/html": [
       "<div>\n",
       "<style scoped>\n",
       "    .dataframe tbody tr th:only-of-type {\n",
       "        vertical-align: middle;\n",
       "    }\n",
       "\n",
       "    .dataframe tbody tr th {\n",
       "        vertical-align: top;\n",
       "    }\n",
       "\n",
       "    .dataframe thead th {\n",
       "        text-align: right;\n",
       "    }\n",
       "</style>\n",
       "<table border=\"1\" class=\"dataframe\">\n",
       "  <thead>\n",
       "    <tr style=\"text-align: right;\">\n",
       "      <th>Senior Citizen</th>\n",
       "      <th>No</th>\n",
       "      <th>Yes</th>\n",
       "    </tr>\n",
       "    <tr>\n",
       "      <th>Tech Support</th>\n",
       "      <th></th>\n",
       "      <th></th>\n",
       "    </tr>\n",
       "  </thead>\n",
       "  <tbody>\n",
       "    <tr>\n",
       "      <th>No</th>\n",
       "      <td>0.761014</td>\n",
       "      <td>0.238986</td>\n",
       "    </tr>\n",
       "    <tr>\n",
       "      <th>Yes</th>\n",
       "      <td>0.872798</td>\n",
       "      <td>0.127202</td>\n",
       "    </tr>\n",
       "  </tbody>\n",
       "</table>\n",
       "</div>"
      ],
      "text/plain": [
       "Senior Citizen        No       Yes\n",
       "Tech Support                      \n",
       "No              0.761014  0.238986\n",
       "Yes             0.872798  0.127202"
      ]
     },
     "execution_count": 25,
     "metadata": {},
     "output_type": "execute_result"
    }
   ],
   "source": [
    "pd.crosstab(df_telco_internet['Tech Support'], df_telco_internet['Senior Citizen'], normalize = 0)"
   ]
  },
  {
   "cell_type": "code",
   "execution_count": 26,
   "id": "3e62a35c-14c9-4b3f-8a4b-77a1ea91c9f4",
   "metadata": {},
   "outputs": [
    {
     "data": {
      "text/html": [
       "<div>\n",
       "<style scoped>\n",
       "    .dataframe tbody tr th:only-of-type {\n",
       "        vertical-align: middle;\n",
       "    }\n",
       "\n",
       "    .dataframe tbody tr th {\n",
       "        vertical-align: top;\n",
       "    }\n",
       "\n",
       "    .dataframe thead th {\n",
       "        text-align: right;\n",
       "    }\n",
       "</style>\n",
       "<table border=\"1\" class=\"dataframe\">\n",
       "  <thead>\n",
       "    <tr style=\"text-align: right;\">\n",
       "      <th>Partner</th>\n",
       "      <th>No</th>\n",
       "      <th>Yes</th>\n",
       "    </tr>\n",
       "    <tr>\n",
       "      <th>Tech Support</th>\n",
       "      <th></th>\n",
       "      <th></th>\n",
       "    </tr>\n",
       "  </thead>\n",
       "  <tbody>\n",
       "    <tr>\n",
       "      <th>No</th>\n",
       "      <td>0.572416</td>\n",
       "      <td>0.427584</td>\n",
       "    </tr>\n",
       "    <tr>\n",
       "      <th>Yes</th>\n",
       "      <td>0.423190</td>\n",
       "      <td>0.576810</td>\n",
       "    </tr>\n",
       "  </tbody>\n",
       "</table>\n",
       "</div>"
      ],
      "text/plain": [
       "Partner             No       Yes\n",
       "Tech Support                    \n",
       "No            0.572416  0.427584\n",
       "Yes           0.423190  0.576810"
      ]
     },
     "execution_count": 26,
     "metadata": {},
     "output_type": "execute_result"
    }
   ],
   "source": [
    "pd.crosstab(df_telco_internet['Tech Support'], df_telco_internet['Partner'], normalize = 0)"
   ]
  },
  {
   "cell_type": "code",
   "execution_count": 27,
   "id": "5f39a0c5-4cde-472b-81c9-0ae2165b5688",
   "metadata": {},
   "outputs": [
    {
     "data": {
      "text/html": [
       "<div>\n",
       "<style scoped>\n",
       "    .dataframe tbody tr th:only-of-type {\n",
       "        vertical-align: middle;\n",
       "    }\n",
       "\n",
       "    .dataframe tbody tr th {\n",
       "        vertical-align: top;\n",
       "    }\n",
       "\n",
       "    .dataframe thead th {\n",
       "        text-align: right;\n",
       "    }\n",
       "</style>\n",
       "<table border=\"1\" class=\"dataframe\">\n",
       "  <thead>\n",
       "    <tr style=\"text-align: right;\">\n",
       "      <th>Dependents</th>\n",
       "      <th>No</th>\n",
       "      <th>Yes</th>\n",
       "    </tr>\n",
       "    <tr>\n",
       "      <th>Tech Support</th>\n",
       "      <th></th>\n",
       "      <th></th>\n",
       "    </tr>\n",
       "  </thead>\n",
       "  <tbody>\n",
       "    <tr>\n",
       "      <th>No</th>\n",
       "      <td>0.840772</td>\n",
       "      <td>0.159228</td>\n",
       "    </tr>\n",
       "    <tr>\n",
       "      <th>Yes</th>\n",
       "      <td>0.750000</td>\n",
       "      <td>0.250000</td>\n",
       "    </tr>\n",
       "  </tbody>\n",
       "</table>\n",
       "</div>"
      ],
      "text/plain": [
       "Dependents          No       Yes\n",
       "Tech Support                    \n",
       "No            0.840772  0.159228\n",
       "Yes           0.750000  0.250000"
      ]
     },
     "execution_count": 27,
     "metadata": {},
     "output_type": "execute_result"
    }
   ],
   "source": [
    "pd.crosstab(df_telco_internet['Tech Support'], df_telco_internet['Dependents'], normalize = 0)"
   ]
  },
  {
   "cell_type": "code",
   "execution_count": 28,
   "id": "27676c55-7fbe-4576-944b-fef99f3fad14",
   "metadata": {},
   "outputs": [
    {
     "data": {
      "text/html": [
       "<div>\n",
       "<style scoped>\n",
       "    .dataframe tbody tr th:only-of-type {\n",
       "        vertical-align: middle;\n",
       "    }\n",
       "\n",
       "    .dataframe tbody tr th {\n",
       "        vertical-align: top;\n",
       "    }\n",
       "\n",
       "    .dataframe thead th {\n",
       "        text-align: right;\n",
       "    }\n",
       "</style>\n",
       "<table border=\"1\" class=\"dataframe\">\n",
       "  <thead>\n",
       "    <tr style=\"text-align: right;\">\n",
       "      <th>Internet Service</th>\n",
       "      <th>DSL</th>\n",
       "      <th>Fiber optic</th>\n",
       "    </tr>\n",
       "    <tr>\n",
       "      <th>Tech Support</th>\n",
       "      <th></th>\n",
       "      <th></th>\n",
       "    </tr>\n",
       "  </thead>\n",
       "  <tbody>\n",
       "    <tr>\n",
       "      <th>No</th>\n",
       "      <td>0.357904</td>\n",
       "      <td>0.642096</td>\n",
       "    </tr>\n",
       "    <tr>\n",
       "      <th>Yes</th>\n",
       "      <td>0.576321</td>\n",
       "      <td>0.423679</td>\n",
       "    </tr>\n",
       "  </tbody>\n",
       "</table>\n",
       "</div>"
      ],
      "text/plain": [
       "Internet Service       DSL  Fiber optic\n",
       "Tech Support                           \n",
       "No                0.357904     0.642096\n",
       "Yes               0.576321     0.423679"
      ]
     },
     "execution_count": 28,
     "metadata": {},
     "output_type": "execute_result"
    }
   ],
   "source": [
    "pd.crosstab(df_telco_internet['Tech Support'], df_telco_internet['Internet Service'], normalize = 0)"
   ]
  },
  {
   "cell_type": "markdown",
   "id": "9447d1ed-0e3b-4be9-a810-eddb2f5b0e62",
   "metadata": {},
   "source": [
    "hetergenus variable\n",
    "1. senior citizen\n",
    "2. partner\n",
    "3. dependent\n",
    "4. internet service\n",
    "5. tenure"
   ]
  },
  {
   "cell_type": "markdown",
   "id": "9e8e6883-d671-45cc-9333-2c2cf7860af8",
   "metadata": {},
   "source": [
    "### causal inference"
   ]
  },
  {
   "cell_type": "code",
   "execution_count": 29,
   "id": "d7816628-65e6-4989-b102-ddcb5bbd918b",
   "metadata": {},
   "outputs": [
    {
     "name": "stderr",
     "output_type": "stream",
     "text": [
      "C:\\Users\\muhyi\\AppData\\Local\\Temp\\ipykernel_15936\\1878779988.py:9: SettingWithCopyWarning: \n",
      "A value is trying to be set on a copy of a slice from a DataFrame.\n",
      "Try using .loc[row_indexer,col_indexer] = value instead\n",
      "\n",
      "See the caveats in the documentation: https://pandas.pydata.org/pandas-docs/stable/user_guide/indexing.html#returning-a-view-versus-a-copy\n",
      "  df_telco_internet['Tech Support t'] = np.where(df_telco_internet['Tech Support']=='Yes',1,0)\n"
     ]
    }
   ],
   "source": [
    "comfound = [\n",
    "    'Senior Citizen',\n",
    "    'Partner', \n",
    "    'Dependents',\n",
    "    'Tenure Months',\n",
    "    'Internet Service'\n",
    "]\n",
    "\n",
    "df_telco_internet['Tech Support t'] = np.where(df_telco_internet['Tech Support']=='Yes',1,0)\n",
    "\n",
    "y = df_telco_internet['Churn Value'].values\n",
    "t = df_telco_internet['Tech Support t'].values\n",
    "X = pd.get_dummies(df_telco_internet[comfound], drop_first = True).astype(int).values"
   ]
  },
  {
   "cell_type": "code",
   "execution_count": 30,
   "id": "04143895-7ae4-4e10-b79c-ee64c847549c",
   "metadata": {},
   "outputs": [
    {
     "name": "stdout",
     "output_type": "stream",
     "text": [
      "\n",
      "Treatment Effect Estimates: Matching\n",
      "\n",
      "                     Est.       S.e.          z      P>|z|      [95% Conf. int.]\n",
      "--------------------------------------------------------------------------------\n",
      "           ATE     -0.089      0.017     -5.145      0.000     -0.123     -0.055\n",
      "           ATC     -0.098      0.021     -4.796      0.000     -0.139     -0.058\n",
      "           ATT     -0.074      0.021     -3.484      0.000     -0.116     -0.032\n",
      "\n"
     ]
    }
   ],
   "source": [
    "model = CausalModel(y, t, X)\n",
    "model.est_via_matching()\n",
    "print(model.estimates)"
   ]
  },
  {
   "cell_type": "markdown",
   "id": "56e690ba-3a82-42cb-8467-fe967c489136",
   "metadata": {},
   "source": [
    "## Device Protection"
   ]
  },
  {
   "cell_type": "markdown",
   "id": "54b26430-42ef-4776-ab6b-d02bbb776e86",
   "metadata": {
    "jp-MarkdownHeadingCollapsed": true
   },
   "source": [
    "### Churn Rate"
   ]
  },
  {
   "cell_type": "code",
   "execution_count": 31,
   "id": "9b9ff616-b926-4f57-81e2-a5fb7896554b",
   "metadata": {},
   "outputs": [
    {
     "data": {
      "text/html": [
       "<div>\n",
       "<style scoped>\n",
       "    .dataframe tbody tr th:only-of-type {\n",
       "        vertical-align: middle;\n",
       "    }\n",
       "\n",
       "    .dataframe tbody tr th {\n",
       "        vertical-align: top;\n",
       "    }\n",
       "\n",
       "    .dataframe thead th {\n",
       "        text-align: right;\n",
       "    }\n",
       "</style>\n",
       "<table border=\"1\" class=\"dataframe\">\n",
       "  <thead>\n",
       "    <tr style=\"text-align: right;\">\n",
       "      <th>Churn Value</th>\n",
       "      <th>0</th>\n",
       "      <th>1</th>\n",
       "    </tr>\n",
       "    <tr>\n",
       "      <th>Device Protection</th>\n",
       "      <th></th>\n",
       "      <th></th>\n",
       "    </tr>\n",
       "  </thead>\n",
       "  <tbody>\n",
       "    <tr>\n",
       "      <th>No</th>\n",
       "      <td>0.608724</td>\n",
       "      <td>0.391276</td>\n",
       "    </tr>\n",
       "    <tr>\n",
       "      <th>Yes</th>\n",
       "      <td>0.774979</td>\n",
       "      <td>0.225021</td>\n",
       "    </tr>\n",
       "  </tbody>\n",
       "</table>\n",
       "</div>"
      ],
      "text/plain": [
       "Churn Value               0         1\n",
       "Device Protection                    \n",
       "No                 0.608724  0.391276\n",
       "Yes                0.774979  0.225021"
      ]
     },
     "execution_count": 31,
     "metadata": {},
     "output_type": "execute_result"
    }
   ],
   "source": [
    "pd.crosstab(df_telco_internet['Device Protection'], df_telco_internet['Churn Value'], normalize = 0)"
   ]
  },
  {
   "cell_type": "markdown",
   "id": "e461ce81-2494-4b6d-9804-ade53a21fb5f",
   "metadata": {},
   "source": [
    "### Comfound"
   ]
  },
  {
   "cell_type": "code",
   "execution_count": 32,
   "id": "7e56bdf3-1ab2-4923-8318-06c6568ac9df",
   "metadata": {},
   "outputs": [
    {
     "data": {
      "text/html": [
       "<div>\n",
       "<style scoped>\n",
       "    .dataframe tbody tr th:only-of-type {\n",
       "        vertical-align: middle;\n",
       "    }\n",
       "\n",
       "    .dataframe tbody tr th {\n",
       "        vertical-align: top;\n",
       "    }\n",
       "\n",
       "    .dataframe thead th {\n",
       "        text-align: right;\n",
       "    }\n",
       "</style>\n",
       "<table border=\"1\" class=\"dataframe\">\n",
       "  <thead>\n",
       "    <tr style=\"text-align: right;\">\n",
       "      <th></th>\n",
       "      <th>Latitude</th>\n",
       "      <th>Longitude</th>\n",
       "      <th>Tenure Months</th>\n",
       "    </tr>\n",
       "    <tr>\n",
       "      <th>Device Protection</th>\n",
       "      <th></th>\n",
       "      <th></th>\n",
       "      <th></th>\n",
       "    </tr>\n",
       "  </thead>\n",
       "  <tbody>\n",
       "    <tr>\n",
       "      <th>No</th>\n",
       "      <td>36.230683</td>\n",
       "      <td>-119.743417</td>\n",
       "      <td>23.696931</td>\n",
       "    </tr>\n",
       "    <tr>\n",
       "      <th>Yes</th>\n",
       "      <td>36.281501</td>\n",
       "      <td>-119.785533</td>\n",
       "      <td>44.604872</td>\n",
       "    </tr>\n",
       "  </tbody>\n",
       "</table>\n",
       "</div>"
      ],
      "text/plain": [
       "                    Latitude   Longitude  Tenure Months\n",
       "Device Protection                                      \n",
       "No                 36.230683 -119.743417      23.696931\n",
       "Yes                36.281501 -119.785533      44.604872"
      ]
     },
     "execution_count": 32,
     "metadata": {},
     "output_type": "execute_result"
    }
   ],
   "source": [
    "df_telco_internet[['Device Protection','Latitude','Longitude','Tenure Months']].groupby('Device Protection').mean()"
   ]
  },
  {
   "cell_type": "code",
   "execution_count": 33,
   "id": "325114da-27c9-4d3b-a788-64a69b8143fa",
   "metadata": {},
   "outputs": [
    {
     "data": {
      "text/html": [
       "<div>\n",
       "<style scoped>\n",
       "    .dataframe tbody tr th:only-of-type {\n",
       "        vertical-align: middle;\n",
       "    }\n",
       "\n",
       "    .dataframe tbody tr th {\n",
       "        vertical-align: top;\n",
       "    }\n",
       "\n",
       "    .dataframe thead th {\n",
       "        text-align: right;\n",
       "    }\n",
       "</style>\n",
       "<table border=\"1\" class=\"dataframe\">\n",
       "  <thead>\n",
       "    <tr style=\"text-align: right;\">\n",
       "      <th>Gender</th>\n",
       "      <th>Female</th>\n",
       "      <th>Male</th>\n",
       "    </tr>\n",
       "    <tr>\n",
       "      <th>Device Protection</th>\n",
       "      <th></th>\n",
       "      <th></th>\n",
       "    </tr>\n",
       "  </thead>\n",
       "  <tbody>\n",
       "    <tr>\n",
       "      <th>No</th>\n",
       "      <td>0.496931</td>\n",
       "      <td>0.503069</td>\n",
       "    </tr>\n",
       "    <tr>\n",
       "      <th>Yes</th>\n",
       "      <td>0.496697</td>\n",
       "      <td>0.503303</td>\n",
       "    </tr>\n",
       "  </tbody>\n",
       "</table>\n",
       "</div>"
      ],
      "text/plain": [
       "Gender               Female      Male\n",
       "Device Protection                    \n",
       "No                 0.496931  0.503069\n",
       "Yes                0.496697  0.503303"
      ]
     },
     "execution_count": 33,
     "metadata": {},
     "output_type": "execute_result"
    }
   ],
   "source": [
    "pd.crosstab(df_telco_internet['Device Protection'], df_telco_internet['Gender'], normalize = 0)"
   ]
  },
  {
   "cell_type": "code",
   "execution_count": 34,
   "id": "a939efc9-f54f-44f5-9331-883b36e2d979",
   "metadata": {},
   "outputs": [
    {
     "data": {
      "text/html": [
       "<div>\n",
       "<style scoped>\n",
       "    .dataframe tbody tr th:only-of-type {\n",
       "        vertical-align: middle;\n",
       "    }\n",
       "\n",
       "    .dataframe tbody tr th {\n",
       "        vertical-align: top;\n",
       "    }\n",
       "\n",
       "    .dataframe thead th {\n",
       "        text-align: right;\n",
       "    }\n",
       "</style>\n",
       "<table border=\"1\" class=\"dataframe\">\n",
       "  <thead>\n",
       "    <tr style=\"text-align: right;\">\n",
       "      <th>Senior Citizen</th>\n",
       "      <th>No</th>\n",
       "      <th>Yes</th>\n",
       "    </tr>\n",
       "    <tr>\n",
       "      <th>Device Protection</th>\n",
       "      <th></th>\n",
       "      <th></th>\n",
       "    </tr>\n",
       "  </thead>\n",
       "  <tbody>\n",
       "    <tr>\n",
       "      <th>No</th>\n",
       "      <td>0.798384</td>\n",
       "      <td>0.201616</td>\n",
       "    </tr>\n",
       "    <tr>\n",
       "      <th>Yes</th>\n",
       "      <td>0.807597</td>\n",
       "      <td>0.192403</td>\n",
       "    </tr>\n",
       "  </tbody>\n",
       "</table>\n",
       "</div>"
      ],
      "text/plain": [
       "Senior Citizen           No       Yes\n",
       "Device Protection                    \n",
       "No                 0.798384  0.201616\n",
       "Yes                0.807597  0.192403"
      ]
     },
     "execution_count": 34,
     "metadata": {},
     "output_type": "execute_result"
    }
   ],
   "source": [
    "pd.crosstab(df_telco_internet['Device Protection'], df_telco_internet['Senior Citizen'], normalize = 0)"
   ]
  },
  {
   "cell_type": "code",
   "execution_count": 35,
   "id": "81c0a6f6-0bcc-41a1-b1b6-ebf26169d2f2",
   "metadata": {},
   "outputs": [
    {
     "data": {
      "text/html": [
       "<div>\n",
       "<style scoped>\n",
       "    .dataframe tbody tr th:only-of-type {\n",
       "        vertical-align: middle;\n",
       "    }\n",
       "\n",
       "    .dataframe tbody tr th {\n",
       "        vertical-align: top;\n",
       "    }\n",
       "\n",
       "    .dataframe thead th {\n",
       "        text-align: right;\n",
       "    }\n",
       "</style>\n",
       "<table border=\"1\" class=\"dataframe\">\n",
       "  <thead>\n",
       "    <tr style=\"text-align: right;\">\n",
       "      <th>Partner</th>\n",
       "      <th>No</th>\n",
       "      <th>Yes</th>\n",
       "    </tr>\n",
       "    <tr>\n",
       "      <th>Device Protection</th>\n",
       "      <th></th>\n",
       "      <th></th>\n",
       "    </tr>\n",
       "  </thead>\n",
       "  <tbody>\n",
       "    <tr>\n",
       "      <th>No</th>\n",
       "      <td>0.600323</td>\n",
       "      <td>0.399677</td>\n",
       "    </tr>\n",
       "    <tr>\n",
       "      <th>Yes</th>\n",
       "      <td>0.410818</td>\n",
       "      <td>0.589182</td>\n",
       "    </tr>\n",
       "  </tbody>\n",
       "</table>\n",
       "</div>"
      ],
      "text/plain": [
       "Partner                  No       Yes\n",
       "Device Protection                    \n",
       "No                 0.600323  0.399677\n",
       "Yes                0.410818  0.589182"
      ]
     },
     "execution_count": 35,
     "metadata": {},
     "output_type": "execute_result"
    }
   ],
   "source": [
    "pd.crosstab(df_telco_internet['Device Protection'], df_telco_internet['Partner'], normalize = 0)"
   ]
  },
  {
   "cell_type": "code",
   "execution_count": 36,
   "id": "022cf613-0af7-411f-afad-429634c411ca",
   "metadata": {},
   "outputs": [
    {
     "data": {
      "text/html": [
       "<div>\n",
       "<style scoped>\n",
       "    .dataframe tbody tr th:only-of-type {\n",
       "        vertical-align: middle;\n",
       "    }\n",
       "\n",
       "    .dataframe tbody tr th {\n",
       "        vertical-align: top;\n",
       "    }\n",
       "\n",
       "    .dataframe thead th {\n",
       "        text-align: right;\n",
       "    }\n",
       "</style>\n",
       "<table border=\"1\" class=\"dataframe\">\n",
       "  <thead>\n",
       "    <tr style=\"text-align: right;\">\n",
       "      <th>Dependents</th>\n",
       "      <th>No</th>\n",
       "      <th>Yes</th>\n",
       "    </tr>\n",
       "    <tr>\n",
       "      <th>Device Protection</th>\n",
       "      <th></th>\n",
       "      <th></th>\n",
       "    </tr>\n",
       "  </thead>\n",
       "  <tbody>\n",
       "    <tr>\n",
       "      <th>No</th>\n",
       "      <td>0.826817</td>\n",
       "      <td>0.173183</td>\n",
       "    </tr>\n",
       "    <tr>\n",
       "      <th>Yes</th>\n",
       "      <td>0.781998</td>\n",
       "      <td>0.218002</td>\n",
       "    </tr>\n",
       "  </tbody>\n",
       "</table>\n",
       "</div>"
      ],
      "text/plain": [
       "Dependents               No       Yes\n",
       "Device Protection                    \n",
       "No                 0.826817  0.173183\n",
       "Yes                0.781998  0.218002"
      ]
     },
     "execution_count": 36,
     "metadata": {},
     "output_type": "execute_result"
    }
   ],
   "source": [
    "pd.crosstab(df_telco_internet['Device Protection'], df_telco_internet['Dependents'], normalize = 0)"
   ]
  },
  {
   "cell_type": "code",
   "execution_count": 37,
   "id": "d4d2e56c-5c81-4759-853c-77ee739dcc88",
   "metadata": {},
   "outputs": [
    {
     "data": {
      "text/html": [
       "<div>\n",
       "<style scoped>\n",
       "    .dataframe tbody tr th:only-of-type {\n",
       "        vertical-align: middle;\n",
       "    }\n",
       "\n",
       "    .dataframe tbody tr th {\n",
       "        vertical-align: top;\n",
       "    }\n",
       "\n",
       "    .dataframe thead th {\n",
       "        text-align: right;\n",
       "    }\n",
       "</style>\n",
       "<table border=\"1\" class=\"dataframe\">\n",
       "  <thead>\n",
       "    <tr style=\"text-align: right;\">\n",
       "      <th>Internet Service</th>\n",
       "      <th>DSL</th>\n",
       "      <th>Fiber optic</th>\n",
       "    </tr>\n",
       "    <tr>\n",
       "      <th>Device Protection</th>\n",
       "      <th></th>\n",
       "      <th></th>\n",
       "    </tr>\n",
       "  </thead>\n",
       "  <tbody>\n",
       "    <tr>\n",
       "      <th>No</th>\n",
       "      <td>0.438126</td>\n",
       "      <td>0.561874</td>\n",
       "    </tr>\n",
       "    <tr>\n",
       "      <th>Yes</th>\n",
       "      <td>0.439719</td>\n",
       "      <td>0.560281</td>\n",
       "    </tr>\n",
       "  </tbody>\n",
       "</table>\n",
       "</div>"
      ],
      "text/plain": [
       "Internet Service        DSL  Fiber optic\n",
       "Device Protection                       \n",
       "No                 0.438126     0.561874\n",
       "Yes                0.439719     0.560281"
      ]
     },
     "execution_count": 37,
     "metadata": {},
     "output_type": "execute_result"
    }
   ],
   "source": [
    "pd.crosstab(df_telco_internet['Device Protection'], df_telco_internet['Internet Service'], normalize = 0)"
   ]
  },
  {
   "cell_type": "markdown",
   "id": "a8300da6-1d87-42a9-9865-f98472ea0551",
   "metadata": {},
   "source": [
    "hetergenous variable\n",
    "1. tenure\n",
    "2. senior citizen\n",
    "3. partner\n",
    "4. dependent"
   ]
  },
  {
   "cell_type": "markdown",
   "id": "7f387a24-909d-4708-8c9d-7dd75ab87a41",
   "metadata": {},
   "source": [
    "### Causal Inference"
   ]
  },
  {
   "cell_type": "code",
   "execution_count": 38,
   "id": "9c7d9c0b-d8cc-4c77-b543-5ffa33e79b3f",
   "metadata": {},
   "outputs": [
    {
     "name": "stderr",
     "output_type": "stream",
     "text": [
      "C:\\Users\\muhyi\\AppData\\Local\\Temp\\ipykernel_15936\\1859791571.py:8: SettingWithCopyWarning: \n",
      "A value is trying to be set on a copy of a slice from a DataFrame.\n",
      "Try using .loc[row_indexer,col_indexer] = value instead\n",
      "\n",
      "See the caveats in the documentation: https://pandas.pydata.org/pandas-docs/stable/user_guide/indexing.html#returning-a-view-versus-a-copy\n",
      "  df_telco_internet['Device Protection t'] = np.where(df_telco_internet['Device Protection']=='Yes',1,0)\n"
     ]
    }
   ],
   "source": [
    "comfound = [\n",
    "    'Tenure Months',\n",
    "    'Senior Citizen',\n",
    "    'Partner', \n",
    "    'Dependents'\n",
    "]\n",
    "\n",
    "df_telco_internet['Device Protection t'] = np.where(df_telco_internet['Device Protection']=='Yes',1,0)\n",
    "\n",
    "y = df_telco_internet['Churn Value'].values\n",
    "t = df_telco_internet['Device Protection t'].values\n",
    "X = pd.get_dummies(df_telco_internet[comfound], drop_first = True).astype(int).values"
   ]
  },
  {
   "cell_type": "code",
   "execution_count": 39,
   "id": "d8a7a95d-dfb9-4cce-a28d-d057e9264cf1",
   "metadata": {},
   "outputs": [
    {
     "name": "stdout",
     "output_type": "stream",
     "text": [
      "\n",
      "Treatment Effect Estimates: Matching\n",
      "\n",
      "                     Est.       S.e.          z      P>|z|      [95% Conf. int.]\n",
      "--------------------------------------------------------------------------------\n",
      "           ATE      0.005      0.014      0.356      0.722     -0.023      0.033\n",
      "           ATC      0.014      0.016      0.880      0.379     -0.018      0.046\n",
      "           ATT     -0.007      0.017     -0.388      0.698     -0.040      0.027\n",
      "\n"
     ]
    }
   ],
   "source": [
    "model = CausalModel(y, t, X)\n",
    "model.est_via_matching()\n",
    "print(model.estimates)"
   ]
  }
 ],
 "metadata": {
  "kernelspec": {
   "display_name": "Python 3 (ipykernel)",
   "language": "python",
   "name": "python3"
  },
  "language_info": {
   "codemirror_mode": {
    "name": "ipython",
    "version": 3
   },
   "file_extension": ".py",
   "mimetype": "text/x-python",
   "name": "python",
   "nbconvert_exporter": "python",
   "pygments_lexer": "ipython3",
   "version": "3.12.7"
  }
 },
 "nbformat": 4,
 "nbformat_minor": 5
}
